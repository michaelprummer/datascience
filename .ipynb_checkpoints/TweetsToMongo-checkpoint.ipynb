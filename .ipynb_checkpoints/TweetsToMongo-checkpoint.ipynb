{
 "cells": [
  {
   "cell_type": "code",
   "execution_count": 6,
   "metadata": {
    "collapsed": false
   },
   "outputs": [],
   "source": [
    "import os\n",
    "import gzip\n",
    "import pymongo\n",
    "from pymongo import MongoClient\n",
    "import json\n",
    "\n",
    "#selecting source path\n",
    "path = 'data/'"
   ]
  },
  {
   "cell_type": "code",
   "execution_count": 7,
   "metadata": {
    "collapsed": false
   },
   "outputs": [
    {
     "data": {
      "text/plain": [
       "u'tweet_id_1'"
      ]
     },
     "execution_count": 7,
     "metadata": {},
     "output_type": "execute_result"
    }
   ],
   "source": [
    "# connecting to local database\n",
    "client = MongoClient('localhost', 27017)\n",
    "# creating ew database\n",
    "db = client.tweet_collection_test\n",
    "# creating new collection\n",
    "tweets = db.tweets\n",
    "# generating an index in order to prevent from inserting doubles\n",
    "tweets.create_index([('tweet_id', pymongo.ASCENDING)], unique=True)\n"
   ]
  },
  {
   "cell_type": "code",
   "execution_count": 8,
   "metadata": {
    "collapsed": false
   },
   "outputs": [
    {
     "name": "stdout",
     "output_type": "stream",
     "text": [
      "data/example/000000.json.gz\n"
     ]
    }
   ],
   "source": [
    "# walking through all files in source directory\n",
    "for subdir, dirs, files in os.walk(path):\n",
    "    for file in files:\n",
    "        # getting file path\n",
    "        filepath = subdir + os.sep + file\n",
    "        \n",
    "        #check if file is tag.gz\n",
    "        if filepath.endswith(\"json.gz\"):\n",
    "            print filepath \n",
    "            \n",
    "            # open the decompressed file and read as json\n",
    "            with gzip.open(filepath, \"rb\", \"utf-8\") as infile:\n",
    "                num = 0\n",
    "                counter = 0\n",
    "                for line in infile:\n",
    "                    num = num + 1\n",
    "                    try:\n",
    "                        obj = json.loads(line)\n",
    "                        # getting the desired fields\n",
    "                        tw = {'tweet_id': obj['id'], 'timestamp_ms': obj['timestamp_ms'], 'text': obj['text'], 'user_screen_name': obj['user']['screen_name'], 'geo': obj['geo']['coordinates'] , 'place': obj['place']['full_name'] + ' (' + obj['place']['country'] + ')', 'lang': obj['lang']  }\n",
    "                        # inserting the object into the collection\n",
    "                        success = tweets.insert_one(tw)\n",
    "                        if success:\n",
    "                            counter = counter + 1\n",
    "\n",
    "                    except (ValueError, RuntimeError, TypeError, NameError):\n",
    "                        pass\n",
    "                    # preventing duplicates, catching the error\n",
    "                    except pymongo.errors.DuplicateKeyError, e:\n",
    "                        # print 'Tweet with ID ' + str(obj['id']) + ' is already in this collection.'\n",
    "                        pass"
   ]
  },
  {
   "cell_type": "code",
   "execution_count": 9,
   "metadata": {
    "collapsed": false
   },
   "outputs": [
    {
     "name": "stdout",
     "output_type": "stream",
     "text": [
      "0  Tweets von  8397  Tweets were saved to database.  6628  Tweets in collection.\n"
     ]
    }
   ],
   "source": [
    "rows = tweets.count()\n",
    "print counter, ' Tweets von ', num ,' Tweets were saved to database. ', rows, ' Tweets in collection.'"
   ]
  },
  {
   "cell_type": "code",
   "execution_count": null,
   "metadata": {
    "collapsed": true
   },
   "outputs": [],
   "source": []
  },
  {
   "cell_type": "code",
   "execution_count": null,
   "metadata": {
    "collapsed": true
   },
   "outputs": [],
   "source": []
  },
  {
   "cell_type": "code",
   "execution_count": null,
   "metadata": {
    "collapsed": true
   },
   "outputs": [],
   "source": []
  },
  {
   "cell_type": "code",
   "execution_count": null,
   "metadata": {
    "collapsed": true
   },
   "outputs": [],
   "source": []
  },
  {
   "cell_type": "code",
   "execution_count": null,
   "metadata": {
    "collapsed": true
   },
   "outputs": [],
   "source": []
  },
  {
   "cell_type": "code",
   "execution_count": null,
   "metadata": {
    "collapsed": true
   },
   "outputs": [],
   "source": []
  }
 ],
 "metadata": {
  "kernelspec": {
   "display_name": "Python 2",
   "language": "python",
   "name": "python2"
  },
  "language_info": {
   "codemirror_mode": {
    "name": "ipython",
    "version": 2
   },
   "file_extension": ".py",
   "mimetype": "text/x-python",
   "name": "python",
   "nbconvert_exporter": "python",
   "pygments_lexer": "ipython2",
   "version": "2.7.11"
  }
 },
 "nbformat": 4,
 "nbformat_minor": 0
}
